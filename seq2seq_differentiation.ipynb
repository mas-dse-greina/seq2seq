{
 "cells": [
  {
   "cell_type": "code",
   "execution_count": 1,
   "metadata": {
    "collapsed": true
   },
   "outputs": [],
   "source": [
    "n_features = 50\n",
    "n_timesteps_in = 8\n",
    "n_timesteps_out = 5\n",
    "\n",
    "n_hidden_units = 200\n",
    "\n",
    "pad_value = 0\n",
    "\n",
    "batch_size = 128"
   ]
  },
  {
   "cell_type": "code",
   "execution_count": 2,
   "metadata": {},
   "outputs": [
    {
     "name": "stderr",
     "output_type": "stream",
     "text": [
      "/home/tony/anaconda3/envs/tf/lib/python3.5/site-packages/h5py/__init__.py:36: FutureWarning: Conversion of the second argument of issubdtype from `float` to `np.floating` is deprecated. In future, it will be treated as `np.float64 == np.dtype(float).type`.\n",
      "  from ._conv import register_converters as _register_converters\n",
      "Using TensorFlow backend.\n"
     ]
    }
   ],
   "source": [
    "from random import randint\n",
    "from numpy import array\n",
    "from numpy import argmax\n",
    "from numpy import array_equal\n",
    "from keras.models import Sequential\n",
    "from keras.layers import LSTM\n",
    "from keras.layers import Dense\n",
    "from keras.layers import TimeDistributed\n",
    "from keras.layers import RepeatVector\n",
    "import numpy as np"
   ]
  },
  {
   "cell_type": "code",
   "execution_count": 3,
   "metadata": {
    "collapsed": true
   },
   "outputs": [],
   "source": [
    "# generate a sequence of random integers\n",
    "def generate_sequence(length, n_unique):\n",
    "    return [randint(0, n_unique-1) for _ in range(length)]\n",
    "\n",
    "# one hot encode sequence\n",
    "def one_hot_encode(sequence, n_unique):\n",
    "    encoding = []\n",
    "    for value in sequence:\n",
    "        vector = [0 for _ in range(n_unique)]\n",
    "        vector[value] = 1\n",
    "        encoding.append(vector)\n",
    "    return array(encoding)\n",
    "\n",
    "# decode a one hot encoded string\n",
    "def one_hot_decode(encoded_seq):\n",
    "    return [argmax(vector) for vector in encoded_seq]"
   ]
  },
  {
   "cell_type": "code",
   "execution_count": 4,
   "metadata": {
    "collapsed": true
   },
   "outputs": [],
   "source": [
    "# prepare data for the LSTM\n",
    "def get_pair(n_in, n_out, cardinality):\n",
    "    # generate random sequence\n",
    "    sequence_in = generate_sequence(n_in, cardinality)\n",
    "    sequence_transform = sequence_in[::-1]  # Reverse sequence\n",
    "    sequence_out = sequence_transform[:n_out] + [pad_value for _ in range(n_in-n_out)]\n",
    "    # one hot encode\n",
    "    X = one_hot_encode(sequence_in, cardinality)\n",
    "    y = one_hot_encode(sequence_out, cardinality)\n",
    "    # reshape as 3D\n",
    "    X = X.reshape((1, X.shape[0], X.shape[1]))\n",
    "    y = y.reshape((1, y.shape[0], y.shape[1]))\n",
    "    return X,y"
   ]
  },
  {
   "cell_type": "code",
   "execution_count": 5,
   "metadata": {
    "collapsed": true
   },
   "outputs": [],
   "source": [
    "def get_batch(n_in, n_out, cardinality, batch_size):\n",
    "    \n",
    "    while True:\n",
    "        \n",
    "        X_batch = []\n",
    "        y_batch = []\n",
    "        \n",
    "        for idx in range(batch_size):\n",
    "            \n",
    "            X,y = get_pair(n_in, n_out, cardinality)\n",
    "            X_batch.append(np.array(X[0]))\n",
    "            y_batch.append(np.array(y[0]))\n",
    "            \n",
    "        yield np.array(X_batch), np.array(y_batch)"
   ]
  },
  {
   "cell_type": "code",
   "execution_count": 6,
   "metadata": {
    "collapsed": true
   },
   "outputs": [],
   "source": [
    "# define model\n",
    "model = Sequential()\n",
    "model.add(LSTM(n_hidden_units, input_shape=(n_timesteps_in, n_features)))\n",
    "model.add(RepeatVector(n_timesteps_in))\n",
    "model.add(LSTM(n_hidden_units, return_sequences=True))\n",
    "model.add(TimeDistributed(Dense(n_features, activation=\"softmax\")))\n",
    "model.compile(loss=\"categorical_crossentropy\", optimizer=\"rmsprop\", metrics=[\"accuracy\"])"
   ]
  },
  {
   "cell_type": "code",
   "execution_count": null,
   "metadata": {},
   "outputs": [],
   "source": []
  },
  {
   "cell_type": "code",
   "execution_count": 7,
   "metadata": {},
   "outputs": [
    {
     "name": "stdout",
     "output_type": "stream",
     "text": [
      "Epoch 1/7\n",
      " - 25s - loss: 1.5353 - acc: 0.5486 - val_loss: 0.6844 - val_acc: 0.7651\n",
      "Epoch 2/7\n",
      " - 25s - loss: 0.2325 - acc: 0.9323 - val_loss: 0.0299 - val_acc: 0.9948\n",
      "Epoch 3/7\n",
      " - 25s - loss: 0.0143 - acc: 0.9975 - val_loss: 0.0068 - val_acc: 0.9989\n",
      "Epoch 4/7\n",
      " - 26s - loss: 0.0037 - acc: 0.9994 - val_loss: 0.0031 - val_acc: 0.9993\n",
      "Epoch 5/7\n",
      " - 25s - loss: 0.0019 - acc: 0.9997 - val_loss: 0.0012 - val_acc: 0.9998\n",
      "Epoch 6/7\n",
      " - 25s - loss: 0.0012 - acc: 0.9997 - val_loss: 0.0015 - val_acc: 0.9996\n",
      "Epoch 7/7\n",
      " - 25s - loss: 9.3717e-04 - acc: 0.9998 - val_loss: 0.0012 - val_acc: 0.9996\n"
     ]
    }
   ],
   "source": [
    "num_epochs = 7\n",
    "training_steps = 1000\n",
    "validation_steps = 100\n",
    "\n",
    "train_generator = get_batch(n_timesteps_in, n_timesteps_out, n_features, batch_size)\n",
    "validate_generator = get_batch(n_timesteps_in, n_timesteps_out, n_features, batch_size)\n",
    "\n",
    "history = model.fit_generator(train_generator, steps_per_epoch=training_steps, epochs=num_epochs, \n",
    "                              validation_data=validate_generator, validation_steps=validation_steps,\n",
    "                              verbose=2)"
   ]
  },
  {
   "cell_type": "code",
   "execution_count": 8,
   "metadata": {},
   "outputs": [
    {
     "name": "stdout",
     "output_type": "stream",
     "text": [
      "********************\n",
      "Test case #1\n",
      "Input =  [9, 27, 44, 15, 12, 8, 24, 12]\n",
      "Expected Output: [12, 24, 8, 12, 15, 0, 0, 0]\n",
      "Model Predicted Output: [12, 24, 8, 12, 15, 0, 0, 0]\n",
      "********************\n",
      "\n",
      "\n",
      "********************\n",
      "Test case #2\n",
      "Input =  [42, 12, 1, 22, 16, 8, 10, 3]\n",
      "Expected Output: [3, 10, 8, 16, 22, 0, 0, 0]\n",
      "Model Predicted Output: [3, 10, 8, 16, 22, 0, 0, 0]\n",
      "********************\n",
      "\n",
      "\n",
      "********************\n",
      "Test case #3\n",
      "Input =  [31, 3, 37, 11, 28, 24, 14, 24]\n",
      "Expected Output: [24, 14, 24, 28, 11, 0, 0, 0]\n",
      "Model Predicted Output: [24, 14, 24, 28, 11, 0, 0, 0]\n",
      "********************\n",
      "\n",
      "\n",
      "********************\n",
      "Test case #4\n",
      "Input =  [34, 22, 3, 21, 28, 20, 45, 17]\n",
      "Expected Output: [17, 45, 20, 28, 21, 0, 0, 0]\n",
      "Model Predicted Output: [17, 45, 20, 28, 21, 0, 0, 0]\n",
      "********************\n",
      "\n",
      "\n",
      "********************\n",
      "Test case #5\n",
      "Input =  [36, 5, 22, 49, 14, 5, 47, 30]\n",
      "Expected Output: [30, 47, 5, 14, 49, 0, 0, 0]\n",
      "Model Predicted Output: [30, 47, 5, 14, 49, 0, 0, 0]\n",
      "********************\n",
      "\n",
      "\n",
      "********************\n",
      "Test case #6\n",
      "Input =  [13, 29, 8, 4, 41, 16, 45, 15]\n",
      "Expected Output: [15, 45, 16, 41, 4, 0, 0, 0]\n",
      "Model Predicted Output: [15, 45, 16, 41, 4, 0, 0, 0]\n",
      "********************\n",
      "\n",
      "\n",
      "********************\n",
      "Test case #7\n",
      "Input =  [4, 33, 1, 38, 45, 1, 37, 46]\n",
      "Expected Output: [46, 37, 1, 45, 38, 0, 0, 0]\n",
      "Model Predicted Output: [46, 37, 1, 45, 38, 0, 0, 0]\n",
      "********************\n",
      "\n",
      "\n",
      "********************\n",
      "Test case #8\n",
      "Input =  [41, 9, 27, 19, 48, 19, 6, 33]\n",
      "Expected Output: [33, 6, 19, 48, 19, 0, 0, 0]\n",
      "Model Predicted Output: [33, 6, 19, 48, 19, 0, 0, 0]\n",
      "********************\n",
      "\n",
      "\n",
      "********************\n",
      "Test case #9\n",
      "Input =  [0, 0, 11, 31, 27, 43, 30, 39]\n",
      "Expected Output: [39, 30, 43, 27, 31, 0, 0, 0]\n",
      "Model Predicted Output: [39, 30, 43, 27, 31, 0, 0, 0]\n",
      "********************\n",
      "\n",
      "\n",
      "********************\n",
      "Test case #10\n",
      "Input =  [28, 8, 38, 34, 43, 27, 32, 31]\n",
      "Expected Output: [31, 32, 27, 43, 34, 0, 0, 0]\n",
      "Model Predicted Output: [31, 32, 27, 43, 34, 0, 0, 0]\n",
      "********************\n",
      "\n",
      "\n"
     ]
    }
   ],
   "source": [
    "# Check a few example predictions to sanity check trained model\n",
    "num_examples=10\n",
    "for idx in range(num_examples):\n",
    "    X,y = get_pair(n_timesteps_in, n_timesteps_out, n_features)\n",
    "    yhat = model.predict(X, verbose=0)\n",
    "    print(\"*\"*20)\n",
    "    print(\"Test case #{}\".format(idx+1))\n",
    "    print(\"Input = \", one_hot_decode(X[0]))\n",
    "    print(\"Expected Output:\", one_hot_decode(y[0]))\n",
    "    print(\"Model Predicted Output:\", one_hot_decode(yhat[0]))\n",
    "    print(\"*\"*20)\n",
    "    print(\"\\n\")"
   ]
  },
  {
   "cell_type": "code",
   "execution_count": null,
   "metadata": {
    "collapsed": true
   },
   "outputs": [],
   "source": []
  }
 ],
 "metadata": {
  "kernelspec": {
   "display_name": "Python 3",
   "language": "python",
   "name": "python3"
  },
  "language_info": {
   "codemirror_mode": {
    "name": "ipython",
    "version": 3
   },
   "file_extension": ".py",
   "mimetype": "text/x-python",
   "name": "python",
   "nbconvert_exporter": "python",
   "pygments_lexer": "ipython3",
   "version": "3.5.4"
  }
 },
 "nbformat": 4,
 "nbformat_minor": 2
}
